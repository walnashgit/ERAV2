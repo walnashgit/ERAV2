{
  "nbformat": 4,
  "nbformat_minor": 0,
  "metadata": {
    "colab": {
      "provenance": [],
      "gpuType": "T4",
      "authorship_tag": "ABX9TyP3WvBMEEeK/Eb6bw2ZYdaD",
      "include_colab_link": true
    },
    "kernelspec": {
      "name": "python3",
      "display_name": "Python 3"
    },
    "language_info": {
      "name": "python"
    },
    "accelerator": "GPU",
    "widgets": {
      "application/vnd.jupyter.widget-state+json": {
        "3ec0baa6f83c422a83212fc5270bd04a": {
          "model_module": "@jupyter-widgets/controls",
          "model_name": "HBoxModel",
          "model_module_version": "1.5.0",
          "state": {
            "_dom_classes": [],
            "_model_module": "@jupyter-widgets/controls",
            "_model_module_version": "1.5.0",
            "_model_name": "HBoxModel",
            "_view_count": null,
            "_view_module": "@jupyter-widgets/controls",
            "_view_module_version": "1.5.0",
            "_view_name": "HBoxView",
            "box_style": "",
            "children": [
              "IPY_MODEL_67440d44735d4cceae6cbab38fd4b576",
              "IPY_MODEL_dd410a7234e74f0ea4328b635c590a7b",
              "IPY_MODEL_cd52e3d6f7b84d26b6d0fda69c23ed20"
            ],
            "layout": "IPY_MODEL_153f5f7070204b3f8c63a28ac1776c79"
          }
        },
        "67440d44735d4cceae6cbab38fd4b576": {
          "model_module": "@jupyter-widgets/controls",
          "model_name": "HTMLModel",
          "model_module_version": "1.5.0",
          "state": {
            "_dom_classes": [],
            "_model_module": "@jupyter-widgets/controls",
            "_model_module_version": "1.5.0",
            "_model_name": "HTMLModel",
            "_view_count": null,
            "_view_module": "@jupyter-widgets/controls",
            "_view_module_version": "1.5.0",
            "_view_name": "HTMLView",
            "description": "",
            "description_tooltip": null,
            "layout": "IPY_MODEL_dae9012cb9b44b1ca3ba02264bbbce67",
            "placeholder": "​",
            "style": "IPY_MODEL_65b906a34e5649ce97cb0a789d892545",
            "value": " 82%"
          }
        },
        "dd410a7234e74f0ea4328b635c590a7b": {
          "model_module": "@jupyter-widgets/controls",
          "model_name": "FloatProgressModel",
          "model_module_version": "1.5.0",
          "state": {
            "_dom_classes": [],
            "_model_module": "@jupyter-widgets/controls",
            "_model_module_version": "1.5.0",
            "_model_name": "FloatProgressModel",
            "_view_count": null,
            "_view_module": "@jupyter-widgets/controls",
            "_view_module_version": "1.5.0",
            "_view_name": "ProgressView",
            "bar_style": "danger",
            "description": "",
            "description_tooltip": null,
            "layout": "IPY_MODEL_3e810b342f9e4afdb98038c4bc0d3f49",
            "max": 100,
            "min": 0,
            "orientation": "horizontal",
            "style": "IPY_MODEL_4d06528b70a64b1b95183cca627e063e",
            "value": 82
          }
        },
        "cd52e3d6f7b84d26b6d0fda69c23ed20": {
          "model_module": "@jupyter-widgets/controls",
          "model_name": "HTMLModel",
          "model_module_version": "1.5.0",
          "state": {
            "_dom_classes": [],
            "_model_module": "@jupyter-widgets/controls",
            "_model_module_version": "1.5.0",
            "_model_name": "HTMLModel",
            "_view_count": null,
            "_view_module": "@jupyter-widgets/controls",
            "_view_module_version": "1.5.0",
            "_view_name": "HTMLView",
            "description": "",
            "description_tooltip": null,
            "layout": "IPY_MODEL_7cf7d4e4af944bd7980335b519ec80ba",
            "placeholder": "​",
            "style": "IPY_MODEL_8910d0bf33004a07a742b619ab10b1ec",
            "value": " 82/100 [00:15&lt;00:03,  5.43it/s]"
          }
        },
        "153f5f7070204b3f8c63a28ac1776c79": {
          "model_module": "@jupyter-widgets/base",
          "model_name": "LayoutModel",
          "model_module_version": "1.2.0",
          "state": {
            "_model_module": "@jupyter-widgets/base",
            "_model_module_version": "1.2.0",
            "_model_name": "LayoutModel",
            "_view_count": null,
            "_view_module": "@jupyter-widgets/base",
            "_view_module_version": "1.2.0",
            "_view_name": "LayoutView",
            "align_content": null,
            "align_items": null,
            "align_self": null,
            "border": null,
            "bottom": null,
            "display": null,
            "flex": null,
            "flex_flow": null,
            "grid_area": null,
            "grid_auto_columns": null,
            "grid_auto_flow": null,
            "grid_auto_rows": null,
            "grid_column": null,
            "grid_gap": null,
            "grid_row": null,
            "grid_template_areas": null,
            "grid_template_columns": null,
            "grid_template_rows": null,
            "height": null,
            "justify_content": null,
            "justify_items": null,
            "left": null,
            "margin": null,
            "max_height": null,
            "max_width": null,
            "min_height": null,
            "min_width": null,
            "object_fit": null,
            "object_position": null,
            "order": null,
            "overflow": null,
            "overflow_x": null,
            "overflow_y": null,
            "padding": null,
            "right": null,
            "top": null,
            "visibility": null,
            "width": null
          }
        },
        "dae9012cb9b44b1ca3ba02264bbbce67": {
          "model_module": "@jupyter-widgets/base",
          "model_name": "LayoutModel",
          "model_module_version": "1.2.0",
          "state": {
            "_model_module": "@jupyter-widgets/base",
            "_model_module_version": "1.2.0",
            "_model_name": "LayoutModel",
            "_view_count": null,
            "_view_module": "@jupyter-widgets/base",
            "_view_module_version": "1.2.0",
            "_view_name": "LayoutView",
            "align_content": null,
            "align_items": null,
            "align_self": null,
            "border": null,
            "bottom": null,
            "display": null,
            "flex": null,
            "flex_flow": null,
            "grid_area": null,
            "grid_auto_columns": null,
            "grid_auto_flow": null,
            "grid_auto_rows": null,
            "grid_column": null,
            "grid_gap": null,
            "grid_row": null,
            "grid_template_areas": null,
            "grid_template_columns": null,
            "grid_template_rows": null,
            "height": null,
            "justify_content": null,
            "justify_items": null,
            "left": null,
            "margin": null,
            "max_height": null,
            "max_width": null,
            "min_height": null,
            "min_width": null,
            "object_fit": null,
            "object_position": null,
            "order": null,
            "overflow": null,
            "overflow_x": null,
            "overflow_y": null,
            "padding": null,
            "right": null,
            "top": null,
            "visibility": null,
            "width": null
          }
        },
        "65b906a34e5649ce97cb0a789d892545": {
          "model_module": "@jupyter-widgets/controls",
          "model_name": "DescriptionStyleModel",
          "model_module_version": "1.5.0",
          "state": {
            "_model_module": "@jupyter-widgets/controls",
            "_model_module_version": "1.5.0",
            "_model_name": "DescriptionStyleModel",
            "_view_count": null,
            "_view_module": "@jupyter-widgets/base",
            "_view_module_version": "1.2.0",
            "_view_name": "StyleView",
            "description_width": ""
          }
        },
        "3e810b342f9e4afdb98038c4bc0d3f49": {
          "model_module": "@jupyter-widgets/base",
          "model_name": "LayoutModel",
          "model_module_version": "1.2.0",
          "state": {
            "_model_module": "@jupyter-widgets/base",
            "_model_module_version": "1.2.0",
            "_model_name": "LayoutModel",
            "_view_count": null,
            "_view_module": "@jupyter-widgets/base",
            "_view_module_version": "1.2.0",
            "_view_name": "LayoutView",
            "align_content": null,
            "align_items": null,
            "align_self": null,
            "border": null,
            "bottom": null,
            "display": null,
            "flex": null,
            "flex_flow": null,
            "grid_area": null,
            "grid_auto_columns": null,
            "grid_auto_flow": null,
            "grid_auto_rows": null,
            "grid_column": null,
            "grid_gap": null,
            "grid_row": null,
            "grid_template_areas": null,
            "grid_template_columns": null,
            "grid_template_rows": null,
            "height": null,
            "justify_content": null,
            "justify_items": null,
            "left": null,
            "margin": null,
            "max_height": null,
            "max_width": null,
            "min_height": null,
            "min_width": null,
            "object_fit": null,
            "object_position": null,
            "order": null,
            "overflow": null,
            "overflow_x": null,
            "overflow_y": null,
            "padding": null,
            "right": null,
            "top": null,
            "visibility": null,
            "width": null
          }
        },
        "4d06528b70a64b1b95183cca627e063e": {
          "model_module": "@jupyter-widgets/controls",
          "model_name": "ProgressStyleModel",
          "model_module_version": "1.5.0",
          "state": {
            "_model_module": "@jupyter-widgets/controls",
            "_model_module_version": "1.5.0",
            "_model_name": "ProgressStyleModel",
            "_view_count": null,
            "_view_module": "@jupyter-widgets/base",
            "_view_module_version": "1.2.0",
            "_view_name": "StyleView",
            "bar_color": null,
            "description_width": ""
          }
        },
        "7cf7d4e4af944bd7980335b519ec80ba": {
          "model_module": "@jupyter-widgets/base",
          "model_name": "LayoutModel",
          "model_module_version": "1.2.0",
          "state": {
            "_model_module": "@jupyter-widgets/base",
            "_model_module_version": "1.2.0",
            "_model_name": "LayoutModel",
            "_view_count": null,
            "_view_module": "@jupyter-widgets/base",
            "_view_module_version": "1.2.0",
            "_view_name": "LayoutView",
            "align_content": null,
            "align_items": null,
            "align_self": null,
            "border": null,
            "bottom": null,
            "display": null,
            "flex": null,
            "flex_flow": null,
            "grid_area": null,
            "grid_auto_columns": null,
            "grid_auto_flow": null,
            "grid_auto_rows": null,
            "grid_column": null,
            "grid_gap": null,
            "grid_row": null,
            "grid_template_areas": null,
            "grid_template_columns": null,
            "grid_template_rows": null,
            "height": null,
            "justify_content": null,
            "justify_items": null,
            "left": null,
            "margin": null,
            "max_height": null,
            "max_width": null,
            "min_height": null,
            "min_width": null,
            "object_fit": null,
            "object_position": null,
            "order": null,
            "overflow": null,
            "overflow_x": null,
            "overflow_y": null,
            "padding": null,
            "right": null,
            "top": null,
            "visibility": null,
            "width": null
          }
        },
        "8910d0bf33004a07a742b619ab10b1ec": {
          "model_module": "@jupyter-widgets/controls",
          "model_name": "DescriptionStyleModel",
          "model_module_version": "1.5.0",
          "state": {
            "_model_module": "@jupyter-widgets/controls",
            "_model_module_version": "1.5.0",
            "_model_name": "DescriptionStyleModel",
            "_view_count": null,
            "_view_module": "@jupyter-widgets/base",
            "_view_module_version": "1.2.0",
            "_view_name": "StyleView",
            "description_width": ""
          }
        }
      }
    }
  },
  "cells": [
    {
      "cell_type": "markdown",
      "metadata": {
        "id": "view-in-github",
        "colab_type": "text"
      },
      "source": [
        "<a href=\"https://colab.research.google.com/github/walnashgit/ERAV2/blob/main/main/S10/S10ResnetOneCycle.ipynb\" target=\"_parent\"><img src=\"https://colab.research.google.com/assets/colab-badge.svg\" alt=\"Open In Colab\"/></a>"
      ]
    },
    {
      "cell_type": "code",
      "source": [
        "!pip install torch-lr-finder"
      ],
      "metadata": {
        "id": "3xsr6fPuUE3o"
      },
      "execution_count": null,
      "outputs": []
    },
    {
      "cell_type": "code",
      "execution_count": null,
      "metadata": {
        "colab": {
          "base_uri": "https://localhost:8080/"
        },
        "id": "2-BupJxd1TFO",
        "outputId": "8c6a78ad-1080-467f-e076-033f1bf7fd65"
      },
      "outputs": [
        {
          "output_type": "stream",
          "name": "stdout",
          "text": [
            "fatal: destination path 'ERAV2' already exists and is not an empty directory.\n"
          ]
        }
      ],
      "source": [
        "!git clone https://github.com/walnashgit/ERAV2.git"
      ]
    },
    {
      "cell_type": "code",
      "source": [
        "from ERAV2.main.Utils import CIFAR10ResNetUtil\n",
        "from ERAV2.main.model.S10ResNetModel import Network\n",
        "import torch.optim as optim\n",
        "import torch.nn as nn\n",
        "\n",
        "\n",
        "util = CIFAR10ResNetUtil()\n",
        "\n",
        "train_set = util.get_train_set_cifar10()\n",
        "train_loader = util.get_data_loader_cifar10(train_set)\n",
        "\n",
        "test_set = util.get_test_set_cifar10()\n",
        "test_loader = util.get_data_loader_cifar10(test_set)\n",
        "\n",
        "model = Network()\n",
        "device = util.get_available_device()\n",
        "\n",
        "\n",
        "optimizer = optim.Adam(model.parameters(), lr=1e-10, weight_decay=1e-2)\n",
        "criterion = nn.CrossEntropyLoss()\n",
        "\n",
        "lr = util.find_lr_fastai(model, device, train_loader, criterion, optimizer)\n",
        "\n",
        "lr_max = round(lr, 6)\n",
        "lr_min = lr_max/10\n",
        "# util.find_lr_leslie_smith(model, device, train_loader, test_loader, criterion, optimizer)"
      ],
      "metadata": {
        "colab": {
          "base_uri": "https://localhost:8080/",
          "height": 633,
          "referenced_widgets": [
            "3ec0baa6f83c422a83212fc5270bd04a",
            "67440d44735d4cceae6cbab38fd4b576",
            "dd410a7234e74f0ea4328b635c590a7b",
            "cd52e3d6f7b84d26b6d0fda69c23ed20",
            "153f5f7070204b3f8c63a28ac1776c79",
            "dae9012cb9b44b1ca3ba02264bbbce67",
            "65b906a34e5649ce97cb0a789d892545",
            "3e810b342f9e4afdb98038c4bc0d3f49",
            "4d06528b70a64b1b95183cca627e063e",
            "7cf7d4e4af944bd7980335b519ec80ba",
            "8910d0bf33004a07a742b619ab10b1ec"
          ]
        },
        "id": "Hro9xmhVNtzb",
        "outputId": "27da6b6e-a133-4999-c5b9-58f6f170c86a"
      },
      "execution_count": null,
      "outputs": [
        {
          "output_type": "stream",
          "name": "stdout",
          "text": [
            "CUDA available:  True\n",
            "mps:  False\n",
            "Files already downloaded and verified\n",
            "Files already downloaded and verified\n"
          ]
        },
        {
          "output_type": "display_data",
          "data": {
            "text/plain": [
              "  0%|          | 0/100 [00:00<?, ?it/s]"
            ],
            "application/vnd.jupyter.widget-view+json": {
              "version_major": 2,
              "version_minor": 0,
              "model_id": "3ec0baa6f83c422a83212fc5270bd04a"
            }
          },
          "metadata": {}
        },
        {
          "output_type": "stream",
          "name": "stdout",
          "text": [
            "Stopping early, the loss has diverged\n",
            "Learning rate search finished. See the graph with {finder_name}.plot()\n",
            "LR suggestion: steepest gradient\n",
            "Suggested LR: 2.48E-03\n"
          ]
        },
        {
          "output_type": "display_data",
          "data": {
            "text/plain": [
              "<Figure size 640x480 with 1 Axes>"
            ],
            "image/png": "[encoded data removed]"
          },
          "metadata": {}
        }
      ]
    },
    {
      "cell_type": "code",
      "source": [
        "scheduler = optim.lr_scheduler.CyclicLR(optimizer, base_lr=lr_min, max_lr=lr_max, step_size_up=4, step_size_down=19, mode=\"triangular\", cycle_momentum=False)\n",
        "# optimizer = optim.SGD(model.parameters(), lr=0.001, weight_decay=1e-2, momentum=0.9)\n",
        "util.start_training_testing(epochs=24, collect_images=False, model=model, device=device,\n",
        "                       train_loader=train_loader,\n",
        "                       test_loader=test_loader,\n",
        "                       optimizer=optimizer,\n",
        "                       criterion=criterion,\n",
        "                       scheduler=scheduler\n",
        "                       )"
      ],
      "metadata": {
        "colab": {
          "base_uri": "https://localhost:8080/"
        },
        "id": "Ptsh7-zdqnzL",
        "outputId": "5bf85a58-0c0c-4bf7-bdf9-6ff20c01b05e"
      },
      "execution_count": null,
      "outputs": [
        {
          "output_type": "stream",
          "name": "stdout",
          "text": [
            "EPOCH: 0\n",
            "current Learning Rate:  0.000248\n"
          ]
        },
        {
          "output_type": "stream",
          "name": "stderr",
          "text": [
            "Loss=1.2890610694885254 Batch_id=97 Accuracy=43.33: 100%|██████████| 98/98 [00:18<00:00,  5.37it/s]\n"
          ]
        },
        {
          "output_type": "stream",
          "name": "stdout",
          "text": [
            "\n",
            "Test set: Average loss: 0.0024, Accuracy: 5824/10000 (58.24%)\n",
            "\n",
            "EPOCH: 1\n",
            "current Learning Rate:  0.0008059999999999996\n"
          ]
        },
        {
          "output_type": "stream",
          "name": "stderr",
          "text": [
            "Loss=0.8733601570129395 Batch_id=97 Accuracy=62.90: 100%|██████████| 98/98 [00:18<00:00,  5.35it/s]\n"
          ]
        },
        {
          "output_type": "stream",
          "name": "stdout",
          "text": [
            "\n",
            "Test set: Average loss: 0.0016, Accuracy: 7217/10000 (72.17%)\n",
            "\n",
            "EPOCH: 2\n",
            "current Learning Rate:  0.0013639999999999993\n"
          ]
        },
        {
          "output_type": "stream",
          "name": "stderr",
          "text": [
            "Loss=0.7671939134597778 Batch_id=97 Accuracy=71.78: 100%|██████████| 98/98 [00:17<00:00,  5.46it/s]\n"
          ]
        },
        {
          "output_type": "stream",
          "name": "stdout",
          "text": [
            "\n",
            "Test set: Average loss: 0.0016, Accuracy: 7237/10000 (72.37%)\n",
            "\n",
            "EPOCH: 3\n",
            "current Learning Rate:  0.001921999999999999\n"
          ]
        },
        {
          "output_type": "stream",
          "name": "stderr",
          "text": [
            "Loss=0.6452587842941284 Batch_id=97 Accuracy=74.08: 100%|██████████| 98/98 [00:17<00:00,  5.58it/s]\n"
          ]
        },
        {
          "output_type": "stream",
          "name": "stdout",
          "text": [
            "\n",
            "Test set: Average loss: 0.0015, Accuracy: 7324/10000 (73.24%)\n",
            "\n",
            "EPOCH: 4\n",
            "current Learning Rate:  0.0024799999999999987\n"
          ]
        },
        {
          "output_type": "stream",
          "name": "stderr",
          "text": [
            "Loss=0.6804823279380798 Batch_id=97 Accuracy=74.88: 100%|██████████| 98/98 [00:18<00:00,  5.41it/s]\n"
          ]
        },
        {
          "output_type": "stream",
          "name": "stdout",
          "text": [
            "\n",
            "Test set: Average loss: 0.0015, Accuracy: 7782/10000 (77.82%)\n",
            "\n",
            "EPOCH: 5\n",
            "current Learning Rate:  0.0023625263157894738\n"
          ]
        },
        {
          "output_type": "stream",
          "name": "stderr",
          "text": [
            "Loss=0.7805191278457642 Batch_id=97 Accuracy=75.93: 100%|██████████| 98/98 [00:18<00:00,  5.43it/s]\n"
          ]
        },
        {
          "output_type": "stream",
          "name": "stdout",
          "text": [
            "\n",
            "Test set: Average loss: 0.0016, Accuracy: 7315/10000 (73.15%)\n",
            "\n",
            "EPOCH: 6\n",
            "current Learning Rate:  0.002245052631578947\n"
          ]
        },
        {
          "output_type": "stream",
          "name": "stderr",
          "text": [
            "Loss=0.6834394335746765 Batch_id=97 Accuracy=76.88: 100%|██████████| 98/98 [00:18<00:00,  5.42it/s]\n"
          ]
        },
        {
          "output_type": "stream",
          "name": "stdout",
          "text": [
            "\n",
            "Test set: Average loss: 0.0014, Accuracy: 7736/10000 (77.36%)\n",
            "\n",
            "EPOCH: 7\n",
            "current Learning Rate:  0.002127578947368421\n"
          ]
        },
        {
          "output_type": "stream",
          "name": "stderr",
          "text": [
            "Loss=0.6552361845970154 Batch_id=97 Accuracy=77.25: 100%|██████████| 98/98 [00:17<00:00,  5.50it/s]\n"
          ]
        },
        {
          "output_type": "stream",
          "name": "stdout",
          "text": [
            "\n",
            "Test set: Average loss: 0.0015, Accuracy: 7527/10000 (75.27%)\n",
            "\n",
            "EPOCH: 8\n",
            "current Learning Rate:  0.0020101052631578947\n"
          ]
        },
        {
          "output_type": "stream",
          "name": "stderr",
          "text": [
            "Loss=0.7155791521072388 Batch_id=97 Accuracy=77.96: 100%|██████████| 98/98 [00:17<00:00,  5.50it/s]\n"
          ]
        },
        {
          "output_type": "stream",
          "name": "stdout",
          "text": [
            "\n",
            "Test set: Average loss: 0.0014, Accuracy: 7672/10000 (76.72%)\n",
            "\n",
            "EPOCH: 9\n",
            "current Learning Rate:  0.0018926315789473686\n"
          ]
        },
        {
          "output_type": "stream",
          "name": "stderr",
          "text": [
            "Loss=0.6916724443435669 Batch_id=97 Accuracy=78.06: 100%|██████████| 98/98 [00:17<00:00,  5.50it/s]\n"
          ]
        },
        {
          "output_type": "stream",
          "name": "stdout",
          "text": [
            "\n",
            "Test set: Average loss: 0.0018, Accuracy: 6967/10000 (69.67%)\n",
            "\n",
            "EPOCH: 10\n",
            "current Learning Rate:  0.0017751578947368424\n"
          ]
        },
        {
          "output_type": "stream",
          "name": "stderr",
          "text": [
            "Loss=0.6552703380584717 Batch_id=97 Accuracy=78.76: 100%|██████████| 98/98 [00:17<00:00,  5.51it/s]\n"
          ]
        },
        {
          "output_type": "stream",
          "name": "stdout",
          "text": [
            "\n",
            "Test set: Average loss: 0.0012, Accuracy: 7911/10000 (79.11%)\n",
            "\n",
            "EPOCH: 11\n",
            "current Learning Rate:  0.001657684210526316\n"
          ]
        },
        {
          "output_type": "stream",
          "name": "stderr",
          "text": [
            "Loss=0.6129134893417358 Batch_id=97 Accuracy=79.08: 100%|██████████| 98/98 [00:17<00:00,  5.50it/s]\n"
          ]
        },
        {
          "output_type": "stream",
          "name": "stdout",
          "text": [
            "\n",
            "Test set: Average loss: 0.0015, Accuracy: 7401/10000 (74.01%)\n",
            "\n",
            "EPOCH: 12\n",
            "current Learning Rate:  0.0015402105263157893\n"
          ]
        },
        {
          "output_type": "stream",
          "name": "stderr",
          "text": [
            "Loss=0.6717596650123596 Batch_id=97 Accuracy=79.35: 100%|██████████| 98/98 [00:17<00:00,  5.51it/s]\n"
          ]
        },
        {
          "output_type": "stream",
          "name": "stdout",
          "text": [
            "\n",
            "Test set: Average loss: 0.0016, Accuracy: 7349/10000 (73.49%)\n",
            "\n",
            "EPOCH: 13\n",
            "current Learning Rate:  0.0014227368421052635\n"
          ]
        },
        {
          "output_type": "stream",
          "name": "stderr",
          "text": [
            "Loss=0.6362969279289246 Batch_id=97 Accuracy=79.94: 100%|██████████| 98/98 [00:17<00:00,  5.49it/s]\n"
          ]
        },
        {
          "output_type": "stream",
          "name": "stdout",
          "text": [
            "\n",
            "Test set: Average loss: 0.0013, Accuracy: 7820/10000 (78.20%)\n",
            "\n",
            "EPOCH: 14\n",
            "current Learning Rate:  0.0013052631578947369\n"
          ]
        },
        {
          "output_type": "stream",
          "name": "stderr",
          "text": [
            "Loss=0.5680897831916809 Batch_id=97 Accuracy=80.34: 100%|██████████| 98/98 [00:17<00:00,  5.52it/s]\n"
          ]
        },
        {
          "output_type": "stream",
          "name": "stdout",
          "text": [
            "\n",
            "Test set: Average loss: 0.0012, Accuracy: 8003/10000 (80.03%)\n",
            "\n",
            "EPOCH: 15\n",
            "current Learning Rate:  0.0011877894736842104\n"
          ]
        },
        {
          "output_type": "stream",
          "name": "stderr",
          "text": [
            "Loss=0.5914057493209839 Batch_id=97 Accuracy=81.45: 100%|██████████| 98/98 [00:17<00:00,  5.49it/s]\n"
          ]
        },
        {
          "output_type": "stream",
          "name": "stdout",
          "text": [
            "\n",
            "Test set: Average loss: 0.0013, Accuracy: 7855/10000 (78.55%)\n",
            "\n",
            "EPOCH: 16\n",
            "current Learning Rate:  0.0010703157894736844\n"
          ]
        },
        {
          "output_type": "stream",
          "name": "stderr",
          "text": [
            "Loss=0.5857589244842529 Batch_id=97 Accuracy=81.65: 100%|██████████| 98/98 [00:17<00:00,  5.55it/s]\n"
          ]
        },
        {
          "output_type": "stream",
          "name": "stdout",
          "text": [
            "\n",
            "Test set: Average loss: 0.0011, Accuracy: 8306/10000 (83.06%)\n",
            "\n",
            "EPOCH: 17\n",
            "current Learning Rate:  0.000952842105263158\n"
          ]
        },
        {
          "output_type": "stream",
          "name": "stderr",
          "text": [
            "Loss=0.5020320415496826 Batch_id=97 Accuracy=82.86: 100%|██████████| 98/98 [00:17<00:00,  5.50it/s]\n"
          ]
        },
        {
          "output_type": "stream",
          "name": "stdout",
          "text": [
            "\n",
            "Test set: Average loss: 0.0010, Accuracy: 8256/10000 (82.56%)\n",
            "\n",
            "EPOCH: 18\n",
            "current Learning Rate:  0.0008353684210526317\n"
          ]
        },
        {
          "output_type": "stream",
          "name": "stderr",
          "text": [
            "Loss=0.5285375118255615 Batch_id=97 Accuracy=83.40: 100%|██████████| 98/98 [00:17<00:00,  5.56it/s]\n"
          ]
        },
        {
          "output_type": "stream",
          "name": "stdout",
          "text": [
            "\n",
            "Test set: Average loss: 0.0009, Accuracy: 8467/10000 (84.67%)\n",
            "\n",
            "EPOCH: 19\n",
            "current Learning Rate:  0.000717894736842105\n"
          ]
        },
        {
          "output_type": "stream",
          "name": "stderr",
          "text": [
            "Loss=0.4771803021430969 Batch_id=97 Accuracy=84.30: 100%|██████████| 98/98 [00:17<00:00,  5.53it/s]\n"
          ]
        },
        {
          "output_type": "stream",
          "name": "stdout",
          "text": [
            "\n",
            "Test set: Average loss: 0.0009, Accuracy: 8579/10000 (85.79%)\n",
            "\n",
            "EPOCH: 20\n",
            "current Learning Rate:  0.0006004210526315793\n"
          ]
        },
        {
          "output_type": "stream",
          "name": "stderr",
          "text": [
            "Loss=0.4611465036869049 Batch_id=97 Accuracy=85.26: 100%|██████████| 98/98 [00:17<00:00,  5.52it/s]\n"
          ]
        },
        {
          "output_type": "stream",
          "name": "stdout",
          "text": [
            "\n",
            "Test set: Average loss: 0.0008, Accuracy: 8606/10000 (86.06%)\n",
            "\n",
            "EPOCH: 21\n",
            "current Learning Rate:  0.0004829473684210525\n"
          ]
        },
        {
          "output_type": "stream",
          "name": "stderr",
          "text": [
            "Loss=0.4619962275028229 Batch_id=97 Accuracy=86.08: 100%|██████████| 98/98 [00:17<00:00,  5.52it/s]\n"
          ]
        },
        {
          "output_type": "stream",
          "name": "stdout",
          "text": [
            "\n",
            "Test set: Average loss: 0.0008, Accuracy: 8632/10000 (86.32%)\n",
            "\n",
            "EPOCH: 22\n",
            "current Learning Rate:  0.00036547368421052624\n"
          ]
        },
        {
          "output_type": "stream",
          "name": "stderr",
          "text": [
            "Loss=0.3514541685581207 Batch_id=97 Accuracy=87.40: 100%|██████████| 98/98 [00:17<00:00,  5.55it/s]\n"
          ]
        },
        {
          "output_type": "stream",
          "name": "stdout",
          "text": [
            "\n",
            "Test set: Average loss: 0.0008, Accuracy: 8738/10000 (87.38%)\n",
            "\n",
            "EPOCH: 23\n",
            "current Learning Rate:  0.000248\n"
          ]
        },
        {
          "output_type": "stream",
          "name": "stderr",
          "text": [
            "Loss=0.31034529209136963 Batch_id=97 Accuracy=88.89: 100%|██████████| 98/98 [00:17<00:00,  5.52it/s]\n"
          ]
        },
        {
          "output_type": "stream",
          "name": "stdout",
          "text": [
            "\n",
            "Test set: Average loss: 0.0006, Accuracy: 8962/10000 (89.62%)\n",
            "\n"
          ]
        }
      ]
    }
  ]
}